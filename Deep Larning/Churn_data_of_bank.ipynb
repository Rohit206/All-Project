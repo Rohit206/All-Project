{
 "cells": [
  {
   "cell_type": "code",
   "execution_count": 1,
   "metadata": {},
   "outputs": [],
   "source": [
    "import numpy as np\n",
    "import matplotlib.pyplot as plt\n",
    "import pandas as pd"
   ]
  },
  {
   "cell_type": "code",
   "execution_count": 2,
   "metadata": {},
   "outputs": [
    {
     "data": {
      "text/html": [
       "<div>\n",
       "<style scoped>\n",
       "    .dataframe tbody tr th:only-of-type {\n",
       "        vertical-align: middle;\n",
       "    }\n",
       "\n",
       "    .dataframe tbody tr th {\n",
       "        vertical-align: top;\n",
       "    }\n",
       "\n",
       "    .dataframe thead th {\n",
       "        text-align: right;\n",
       "    }\n",
       "</style>\n",
       "<table border=\"1\" class=\"dataframe\">\n",
       "  <thead>\n",
       "    <tr style=\"text-align: right;\">\n",
       "      <th></th>\n",
       "      <th>RowNumber</th>\n",
       "      <th>CustomerId</th>\n",
       "      <th>Surname</th>\n",
       "      <th>CreditScore</th>\n",
       "      <th>Geography</th>\n",
       "      <th>Gender</th>\n",
       "      <th>Age</th>\n",
       "      <th>Tenure</th>\n",
       "      <th>Balance</th>\n",
       "      <th>NumOfProducts</th>\n",
       "      <th>HasCrCard</th>\n",
       "      <th>IsActiveMember</th>\n",
       "      <th>EstimatedSalary</th>\n",
       "      <th>Exited</th>\n",
       "    </tr>\n",
       "  </thead>\n",
       "  <tbody>\n",
       "    <tr>\n",
       "      <th>0</th>\n",
       "      <td>1</td>\n",
       "      <td>15634602</td>\n",
       "      <td>Hargrave</td>\n",
       "      <td>619</td>\n",
       "      <td>France</td>\n",
       "      <td>Female</td>\n",
       "      <td>42</td>\n",
       "      <td>2</td>\n",
       "      <td>0.00</td>\n",
       "      <td>1</td>\n",
       "      <td>1</td>\n",
       "      <td>1</td>\n",
       "      <td>101348.88</td>\n",
       "      <td>1</td>\n",
       "    </tr>\n",
       "    <tr>\n",
       "      <th>1</th>\n",
       "      <td>2</td>\n",
       "      <td>15647311</td>\n",
       "      <td>Hill</td>\n",
       "      <td>608</td>\n",
       "      <td>Spain</td>\n",
       "      <td>Female</td>\n",
       "      <td>41</td>\n",
       "      <td>1</td>\n",
       "      <td>83807.86</td>\n",
       "      <td>1</td>\n",
       "      <td>0</td>\n",
       "      <td>1</td>\n",
       "      <td>112542.58</td>\n",
       "      <td>0</td>\n",
       "    </tr>\n",
       "    <tr>\n",
       "      <th>2</th>\n",
       "      <td>3</td>\n",
       "      <td>15619304</td>\n",
       "      <td>Onio</td>\n",
       "      <td>502</td>\n",
       "      <td>France</td>\n",
       "      <td>Female</td>\n",
       "      <td>42</td>\n",
       "      <td>8</td>\n",
       "      <td>159660.80</td>\n",
       "      <td>3</td>\n",
       "      <td>1</td>\n",
       "      <td>0</td>\n",
       "      <td>113931.57</td>\n",
       "      <td>1</td>\n",
       "    </tr>\n",
       "    <tr>\n",
       "      <th>3</th>\n",
       "      <td>4</td>\n",
       "      <td>15701354</td>\n",
       "      <td>Boni</td>\n",
       "      <td>699</td>\n",
       "      <td>France</td>\n",
       "      <td>Female</td>\n",
       "      <td>39</td>\n",
       "      <td>1</td>\n",
       "      <td>0.00</td>\n",
       "      <td>2</td>\n",
       "      <td>0</td>\n",
       "      <td>0</td>\n",
       "      <td>93826.63</td>\n",
       "      <td>0</td>\n",
       "    </tr>\n",
       "    <tr>\n",
       "      <th>4</th>\n",
       "      <td>5</td>\n",
       "      <td>15737888</td>\n",
       "      <td>Mitchell</td>\n",
       "      <td>850</td>\n",
       "      <td>Spain</td>\n",
       "      <td>Female</td>\n",
       "      <td>43</td>\n",
       "      <td>2</td>\n",
       "      <td>125510.82</td>\n",
       "      <td>1</td>\n",
       "      <td>1</td>\n",
       "      <td>1</td>\n",
       "      <td>79084.10</td>\n",
       "      <td>0</td>\n",
       "    </tr>\n",
       "  </tbody>\n",
       "</table>\n",
       "</div>"
      ],
      "text/plain": [
       "   RowNumber  CustomerId   Surname  CreditScore Geography  Gender  Age  \\\n",
       "0          1    15634602  Hargrave          619    France  Female   42   \n",
       "1          2    15647311      Hill          608     Spain  Female   41   \n",
       "2          3    15619304      Onio          502    France  Female   42   \n",
       "3          4    15701354      Boni          699    France  Female   39   \n",
       "4          5    15737888  Mitchell          850     Spain  Female   43   \n",
       "\n",
       "   Tenure    Balance  NumOfProducts  HasCrCard  IsActiveMember  \\\n",
       "0       2       0.00              1          1               1   \n",
       "1       1   83807.86              1          0               1   \n",
       "2       8  159660.80              3          1               0   \n",
       "3       1       0.00              2          0               0   \n",
       "4       2  125510.82              1          1               1   \n",
       "\n",
       "   EstimatedSalary  Exited  \n",
       "0        101348.88       1  \n",
       "1        112542.58       0  \n",
       "2        113931.57       1  \n",
       "3         93826.63       0  \n",
       "4         79084.10       0  "
      ]
     },
     "execution_count": 2,
     "metadata": {},
     "output_type": "execute_result"
    }
   ],
   "source": [
    "dataset = pd.read_csv('Churn_Modelling.csv')\n",
    "dataset.head()"
   ]
  },
  {
   "cell_type": "code",
   "execution_count": 3,
   "metadata": {},
   "outputs": [],
   "source": [
    "X = dataset.iloc[:, 3:13]\n",
    "y = dataset.iloc[:, 13]"
   ]
  },
  {
   "cell_type": "markdown",
   "metadata": {},
   "source": [
    "### Create dummy variables"
   ]
  },
  {
   "cell_type": "code",
   "execution_count": 4,
   "metadata": {},
   "outputs": [],
   "source": [
    "geography=pd.get_dummies(X[\"Geography\"],drop_first=True)\n",
    "gender=pd.get_dummies(X['Gender'],drop_first=True)"
   ]
  },
  {
   "cell_type": "markdown",
   "metadata": {},
   "source": [
    "### Concatenate the Data Frames"
   ]
  },
  {
   "cell_type": "code",
   "execution_count": 5,
   "metadata": {},
   "outputs": [],
   "source": [
    "X=pd.concat([X,geography,gender],axis=1)"
   ]
  },
  {
   "cell_type": "markdown",
   "metadata": {},
   "source": [
    "### Drop Unnecessary columns"
   ]
  },
  {
   "cell_type": "code",
   "execution_count": 6,
   "metadata": {},
   "outputs": [],
   "source": [
    "X=X.drop(['Geography','Gender'],axis=1)"
   ]
  },
  {
   "cell_type": "markdown",
   "metadata": {},
   "source": [
    "### Splitting the dataset into the Training set and Test set"
   ]
  },
  {
   "cell_type": "code",
   "execution_count": 7,
   "metadata": {},
   "outputs": [],
   "source": [
    "from sklearn.model_selection import train_test_split\n",
    "X_train, X_test, y_train, y_test = train_test_split(X, y, test_size = 0.2, random_state = 0)"
   ]
  },
  {
   "cell_type": "markdown",
   "metadata": {},
   "source": [
    "### Feature Scaling"
   ]
  },
  {
   "cell_type": "code",
   "execution_count": 8,
   "metadata": {},
   "outputs": [],
   "source": [
    "from sklearn.preprocessing import StandardScaler\n",
    "sc = StandardScaler()\n",
    "X_train = sc.fit_transform(X_train)\n",
    "X_test = sc.transform(X_test)"
   ]
  },
  {
   "cell_type": "markdown",
   "metadata": {},
   "source": [
    "### Importing the Keras libraries and packages"
   ]
  },
  {
   "cell_type": "code",
   "execution_count": 9,
   "metadata": {},
   "outputs": [
    {
     "name": "stderr",
     "output_type": "stream",
     "text": [
      "Using TensorFlow backend.\n"
     ]
    }
   ],
   "source": [
    "import keras\n",
    "from keras.models import Sequential\n",
    "from keras.layers import Dense\n",
    "from keras.layers import LeakyReLU,PReLU,ELU\n",
    "from keras.layers import Dropout\n"
   ]
  },
  {
   "cell_type": "code",
   "execution_count": 10,
   "metadata": {},
   "outputs": [],
   "source": [
    "# Initialising the ANN\n",
    "classifier = Sequential()"
   ]
  },
  {
   "cell_type": "code",
   "execution_count": 11,
   "metadata": {},
   "outputs": [
    {
     "name": "stderr",
     "output_type": "stream",
     "text": [
      "/home/machadalouser/anaconda3/lib/python3.7/site-packages/ipykernel_launcher.py:2: UserWarning: Update your `Dense` call to the Keras 2 API: `Dense(activation=\"relu\", input_dim=11, units=6, kernel_initializer=\"he_uniform\")`\n",
      "  \n"
     ]
    }
   ],
   "source": [
    "# Adding the input layer and the first hidden layer\n",
    "classifier.add(Dense(output_dim = 6, init = 'he_uniform',activation='relu',input_dim = 11))\n",
    "\n"
   ]
  },
  {
   "cell_type": "code",
   "execution_count": 12,
   "metadata": {},
   "outputs": [
    {
     "name": "stderr",
     "output_type": "stream",
     "text": [
      "/home/machadalouser/anaconda3/lib/python3.7/site-packages/ipykernel_launcher.py:2: UserWarning: Update your `Dense` call to the Keras 2 API: `Dense(activation=\"relu\", units=6, kernel_initializer=\"he_uniform\")`\n",
      "  \n"
     ]
    }
   ],
   "source": [
    "# Adding the second hidden layer\n",
    "classifier.add(Dense(output_dim = 6, init = 'he_uniform',activation='relu'))\n"
   ]
  },
  {
   "cell_type": "code",
   "execution_count": 13,
   "metadata": {},
   "outputs": [
    {
     "name": "stderr",
     "output_type": "stream",
     "text": [
      "/home/machadalouser/anaconda3/lib/python3.7/site-packages/ipykernel_launcher.py:2: UserWarning: Update your `Dense` call to the Keras 2 API: `Dense(activation=\"sigmoid\", units=1, kernel_initializer=\"glorot_uniform\")`\n",
      "  \n"
     ]
    }
   ],
   "source": [
    "# Adding the output layer\n",
    "classifier.add(Dense(output_dim = 1, init = 'glorot_uniform', activation = 'sigmoid'))\n"
   ]
  },
  {
   "cell_type": "code",
   "execution_count": 14,
   "metadata": {},
   "outputs": [],
   "source": [
    "# Compiling the ANN\n",
    "classifier.compile(optimizer = 'Adamax', loss = 'binary_crossentropy', metrics = ['accuracy'])"
   ]
  },
  {
   "cell_type": "code",
   "execution_count": 22,
   "metadata": {},
   "outputs": [
    {
     "name": "stderr",
     "output_type": "stream",
     "text": [
      "/home/machadalouser/anaconda3/lib/python3.7/site-packages/ipykernel_launcher.py:2: UserWarning: The `nb_epoch` argument in `fit` has been renamed `epochs`.\n",
      "  \n"
     ]
    },
    {
     "name": "stdout",
     "output_type": "stream",
     "text": [
      "Train on 5359 samples, validate on 2641 samples\n",
      "Epoch 1/100\n",
      "5359/5359 [==============================] - 3s 504us/step - loss: 0.4058 - accuracy: 0.8283 - val_loss: 0.4169 - val_accuracy: 0.8198\n",
      "Epoch 2/100\n",
      "5359/5359 [==============================] - 2s 302us/step - loss: 0.4026 - accuracy: 0.8298 - val_loss: 0.4145 - val_accuracy: 0.8224\n",
      "Epoch 3/100\n",
      "5359/5359 [==============================] - 1s 262us/step - loss: 0.3997 - accuracy: 0.8298 - val_loss: 0.4126 - val_accuracy: 0.8243\n",
      "Epoch 4/100\n",
      "5359/5359 [==============================] - 1s 252us/step - loss: 0.3970 - accuracy: 0.8326 - val_loss: 0.4107 - val_accuracy: 0.8239\n",
      "Epoch 5/100\n",
      "5359/5359 [==============================] - 2s 285us/step - loss: 0.3947 - accuracy: 0.8330 - val_loss: 0.4089 - val_accuracy: 0.8262\n",
      "Epoch 6/100\n",
      "5359/5359 [==============================] - 1s 280us/step - loss: 0.3919 - accuracy: 0.8350 - val_loss: 0.4073 - val_accuracy: 0.8258\n",
      "Epoch 7/100\n",
      "5359/5359 [==============================] - 2s 357us/step - loss: 0.3894 - accuracy: 0.8339 - val_loss: 0.4046 - val_accuracy: 0.8258\n",
      "Epoch 8/100\n",
      "5359/5359 [==============================] - 1s 178us/step - loss: 0.3864 - accuracy: 0.8332 - val_loss: 0.4019 - val_accuracy: 0.8247\n",
      "Epoch 9/100\n",
      "5359/5359 [==============================] - 1s 94us/step - loss: 0.3831 - accuracy: 0.8352 - val_loss: 0.3995 - val_accuracy: 0.8236\n",
      "Epoch 10/100\n",
      "5359/5359 [==============================] - 1s 106us/step - loss: 0.3801 - accuracy: 0.8349 - val_loss: 0.3966 - val_accuracy: 0.8247\n",
      "Epoch 11/100\n",
      "5359/5359 [==============================] - 1s 135us/step - loss: 0.3776 - accuracy: 0.8362 - val_loss: 0.3947 - val_accuracy: 0.8239\n",
      "Epoch 12/100\n",
      "5359/5359 [==============================] - 1s 135us/step - loss: 0.3751 - accuracy: 0.8360 - val_loss: 0.3925 - val_accuracy: 0.8243\n",
      "Epoch 13/100\n",
      "5359/5359 [==============================] - 1s 131us/step - loss: 0.3731 - accuracy: 0.8369 - val_loss: 0.3910 - val_accuracy: 0.8217\n",
      "Epoch 14/100\n",
      "5359/5359 [==============================] - 1s 134us/step - loss: 0.3710 - accuracy: 0.8371 - val_loss: 0.3893 - val_accuracy: 0.8224\n",
      "Epoch 15/100\n",
      "5359/5359 [==============================] - 1s 135us/step - loss: 0.3689 - accuracy: 0.8364 - val_loss: 0.3871 - val_accuracy: 0.8247\n",
      "Epoch 16/100\n",
      "5359/5359 [==============================] - 1s 133us/step - loss: 0.3672 - accuracy: 0.8365 - val_loss: 0.3859 - val_accuracy: 0.8236\n",
      "Epoch 17/100\n",
      "5359/5359 [==============================] - 1s 155us/step - loss: 0.3655 - accuracy: 0.8354 - val_loss: 0.3847 - val_accuracy: 0.8247\n",
      "Epoch 18/100\n",
      "5359/5359 [==============================] - 1s 150us/step - loss: 0.3635 - accuracy: 0.8360 - val_loss: 0.3837 - val_accuracy: 0.8239\n",
      "Epoch 19/100\n",
      "5359/5359 [==============================] - 1s 116us/step - loss: 0.3616 - accuracy: 0.8362 - val_loss: 0.3826 - val_accuracy: 0.8239\n",
      "Epoch 20/100\n",
      "5359/5359 [==============================] - 1s 128us/step - loss: 0.3601 - accuracy: 0.8433 - val_loss: 0.3816 - val_accuracy: 0.8398\n",
      "Epoch 21/100\n",
      "5359/5359 [==============================] - 1s 129us/step - loss: 0.3586 - accuracy: 0.8533 - val_loss: 0.3807 - val_accuracy: 0.8410\n",
      "Epoch 22/100\n",
      "5359/5359 [==============================] - 1s 145us/step - loss: 0.3570 - accuracy: 0.8535 - val_loss: 0.3793 - val_accuracy: 0.8417\n",
      "Epoch 23/100\n",
      "5359/5359 [==============================] - 1s 127us/step - loss: 0.3558 - accuracy: 0.8554 - val_loss: 0.3782 - val_accuracy: 0.8421\n",
      "Epoch 24/100\n",
      "5359/5359 [==============================] - 1s 104us/step - loss: 0.3546 - accuracy: 0.8574 - val_loss: 0.3777 - val_accuracy: 0.8432\n",
      "Epoch 25/100\n",
      "5359/5359 [==============================] - 0s 84us/step - loss: 0.3536 - accuracy: 0.8580 - val_loss: 0.3773 - val_accuracy: 0.8448\n",
      "Epoch 26/100\n",
      "5359/5359 [==============================] - 1s 104us/step - loss: 0.3529 - accuracy: 0.8572 - val_loss: 0.3762 - val_accuracy: 0.8440\n",
      "Epoch 27/100\n",
      "5359/5359 [==============================] - 0s 91us/step - loss: 0.3521 - accuracy: 0.8589 - val_loss: 0.3759 - val_accuracy: 0.8451\n",
      "Epoch 28/100\n",
      "5359/5359 [==============================] - 1s 97us/step - loss: 0.3511 - accuracy: 0.8576 - val_loss: 0.3764 - val_accuracy: 0.8451\n",
      "Epoch 29/100\n",
      "5359/5359 [==============================] - 1s 111us/step - loss: 0.3507 - accuracy: 0.8574 - val_loss: 0.3746 - val_accuracy: 0.8459\n",
      "Epoch 30/100\n",
      "5359/5359 [==============================] - 0s 91us/step - loss: 0.3498 - accuracy: 0.8614 - val_loss: 0.3746 - val_accuracy: 0.8474\n",
      "Epoch 31/100\n",
      "5359/5359 [==============================] - 0s 89us/step - loss: 0.3492 - accuracy: 0.8586 - val_loss: 0.3741 - val_accuracy: 0.8485\n",
      "Epoch 32/100\n",
      "5359/5359 [==============================] - 0s 90us/step - loss: 0.3489 - accuracy: 0.8615 - val_loss: 0.3730 - val_accuracy: 0.8482\n",
      "Epoch 33/100\n",
      "5359/5359 [==============================] - 1s 99us/step - loss: 0.3484 - accuracy: 0.8589 - val_loss: 0.3721 - val_accuracy: 0.8466\n",
      "Epoch 34/100\n",
      "5359/5359 [==============================] - 1s 121us/step - loss: 0.3476 - accuracy: 0.8595 - val_loss: 0.3725 - val_accuracy: 0.8466\n",
      "Epoch 35/100\n",
      "5359/5359 [==============================] - 1s 99us/step - loss: 0.3473 - accuracy: 0.8602 - val_loss: 0.3717 - val_accuracy: 0.8493\n",
      "Epoch 36/100\n",
      "5359/5359 [==============================] - 1s 107us/step - loss: 0.3467 - accuracy: 0.8602 - val_loss: 0.3717 - val_accuracy: 0.8466\n",
      "Epoch 37/100\n",
      "5359/5359 [==============================] - 1s 141us/step - loss: 0.3465 - accuracy: 0.8606 - val_loss: 0.3712 - val_accuracy: 0.8478\n",
      "Epoch 38/100\n",
      "5359/5359 [==============================] - 1s 113us/step - loss: 0.3461 - accuracy: 0.8614 - val_loss: 0.3703 - val_accuracy: 0.8470\n",
      "Epoch 39/100\n",
      "5359/5359 [==============================] - 1s 109us/step - loss: 0.3457 - accuracy: 0.8621 - val_loss: 0.3700 - val_accuracy: 0.8463\n",
      "Epoch 40/100\n",
      "5359/5359 [==============================] - 1s 111us/step - loss: 0.3453 - accuracy: 0.8612 - val_loss: 0.3694 - val_accuracy: 0.8482\n",
      "Epoch 41/100\n",
      "5359/5359 [==============================] - 1s 169us/step - loss: 0.3448 - accuracy: 0.8599 - val_loss: 0.3694 - val_accuracy: 0.8482\n",
      "Epoch 42/100\n",
      "5359/5359 [==============================] - 1s 121us/step - loss: 0.3445 - accuracy: 0.8597 - val_loss: 0.3690 - val_accuracy: 0.8482\n",
      "Epoch 43/100\n",
      "5359/5359 [==============================] - 1s 117us/step - loss: 0.3442 - accuracy: 0.8610 - val_loss: 0.3690 - val_accuracy: 0.8482\n",
      "Epoch 44/100\n",
      "5359/5359 [==============================] - 1s 135us/step - loss: 0.3438 - accuracy: 0.8612 - val_loss: 0.3683 - val_accuracy: 0.8474\n",
      "Epoch 45/100\n",
      "5359/5359 [==============================] - 1s 119us/step - loss: 0.3433 - accuracy: 0.8602 - val_loss: 0.3676 - val_accuracy: 0.8497\n",
      "Epoch 46/100\n",
      "5359/5359 [==============================] - 1s 158us/step - loss: 0.3431 - accuracy: 0.8602 - val_loss: 0.3680 - val_accuracy: 0.8501\n",
      "Epoch 47/100\n",
      "5359/5359 [==============================] - 1s 157us/step - loss: 0.3422 - accuracy: 0.8591 - val_loss: 0.3680 - val_accuracy: 0.8504\n",
      "Epoch 48/100\n",
      "5359/5359 [==============================] - 1s 154us/step - loss: 0.3427 - accuracy: 0.8606 - val_loss: 0.3672 - val_accuracy: 0.8497\n",
      "Epoch 49/100\n",
      "5359/5359 [==============================] - 1s 146us/step - loss: 0.3423 - accuracy: 0.8615 - val_loss: 0.3667 - val_accuracy: 0.8478\n",
      "Epoch 50/100\n",
      "5359/5359 [==============================] - 1s 154us/step - loss: 0.3419 - accuracy: 0.8612 - val_loss: 0.3669 - val_accuracy: 0.8501\n",
      "Epoch 51/100\n",
      "5359/5359 [==============================] - 1s 144us/step - loss: 0.3417 - accuracy: 0.8606 - val_loss: 0.3666 - val_accuracy: 0.8497\n",
      "Epoch 52/100\n",
      "5359/5359 [==============================] - 1s 158us/step - loss: 0.3415 - accuracy: 0.8615 - val_loss: 0.3662 - val_accuracy: 0.8474\n",
      "Epoch 53/100\n",
      "5359/5359 [==============================] - 1s 145us/step - loss: 0.3411 - accuracy: 0.8634 - val_loss: 0.3658 - val_accuracy: 0.8478\n",
      "Epoch 54/100\n",
      "5359/5359 [==============================] - 1s 166us/step - loss: 0.3407 - accuracy: 0.8630 - val_loss: 0.3654 - val_accuracy: 0.8493\n",
      "Epoch 55/100\n",
      "5359/5359 [==============================] - 1s 196us/step - loss: 0.3404 - accuracy: 0.8627 - val_loss: 0.3649 - val_accuracy: 0.8470\n",
      "Epoch 56/100\n"
     ]
    },
    {
     "name": "stdout",
     "output_type": "stream",
     "text": [
      "5359/5359 [==============================] - 1s 140us/step - loss: 0.3402 - accuracy: 0.8604 - val_loss: 0.3651 - val_accuracy: 0.8466\n",
      "Epoch 57/100\n",
      "5359/5359 [==============================] - 1s 96us/step - loss: 0.3398 - accuracy: 0.8621 - val_loss: 0.3650 - val_accuracy: 0.8463\n",
      "Epoch 58/100\n",
      "5359/5359 [==============================] - 1s 104us/step - loss: 0.3399 - accuracy: 0.8623 - val_loss: 0.3643 - val_accuracy: 0.8493\n",
      "Epoch 59/100\n",
      "5359/5359 [==============================] - 1s 107us/step - loss: 0.3392 - accuracy: 0.8619 - val_loss: 0.3642 - val_accuracy: 0.8497\n",
      "Epoch 60/100\n",
      "5359/5359 [==============================] - 1s 107us/step - loss: 0.3389 - accuracy: 0.8623 - val_loss: 0.3644 - val_accuracy: 0.8489\n",
      "Epoch 61/100\n",
      "5359/5359 [==============================] - 1s 124us/step - loss: 0.3389 - accuracy: 0.8615 - val_loss: 0.3641 - val_accuracy: 0.8478\n",
      "Epoch 62/100\n",
      "5359/5359 [==============================] - 1s 116us/step - loss: 0.3386 - accuracy: 0.8608 - val_loss: 0.3639 - val_accuracy: 0.8497\n",
      "Epoch 63/100\n",
      "5359/5359 [==============================] - 0s 87us/step - loss: 0.3381 - accuracy: 0.8625 - val_loss: 0.3635 - val_accuracy: 0.8489\n",
      "Epoch 64/100\n",
      "5359/5359 [==============================] - 1s 101us/step - loss: 0.3379 - accuracy: 0.8606 - val_loss: 0.3638 - val_accuracy: 0.8482\n",
      "Epoch 65/100\n",
      "5359/5359 [==============================] - 1s 111us/step - loss: 0.3377 - accuracy: 0.8628 - val_loss: 0.3623 - val_accuracy: 0.8501\n",
      "Epoch 66/100\n",
      "5359/5359 [==============================] - 1s 100us/step - loss: 0.3374 - accuracy: 0.8610 - val_loss: 0.3624 - val_accuracy: 0.8497\n",
      "Epoch 67/100\n",
      "5359/5359 [==============================] - 1s 112us/step - loss: 0.3371 - accuracy: 0.8645 - val_loss: 0.3623 - val_accuracy: 0.8485\n",
      "Epoch 68/100\n",
      "5359/5359 [==============================] - 1s 97us/step - loss: 0.3369 - accuracy: 0.8656 - val_loss: 0.3622 - val_accuracy: 0.8516\n",
      "Epoch 69/100\n",
      "5359/5359 [==============================] - 1s 100us/step - loss: 0.3369 - accuracy: 0.8630 - val_loss: 0.3614 - val_accuracy: 0.8501\n",
      "Epoch 70/100\n",
      "5359/5359 [==============================] - 1s 127us/step - loss: 0.3367 - accuracy: 0.8642 - val_loss: 0.3608 - val_accuracy: 0.8516\n",
      "Epoch 71/100\n",
      "5359/5359 [==============================] - 1s 118us/step - loss: 0.3362 - accuracy: 0.8638 - val_loss: 0.3611 - val_accuracy: 0.8497\n",
      "Epoch 72/100\n",
      "5359/5359 [==============================] - 1s 107us/step - loss: 0.3362 - accuracy: 0.8643 - val_loss: 0.3611 - val_accuracy: 0.8508\n",
      "Epoch 73/100\n",
      "5359/5359 [==============================] - 1s 106us/step - loss: 0.3359 - accuracy: 0.8647 - val_loss: 0.3606 - val_accuracy: 0.8512\n",
      "Epoch 74/100\n",
      "5359/5359 [==============================] - 1s 114us/step - loss: 0.3356 - accuracy: 0.8645 - val_loss: 0.3603 - val_accuracy: 0.8527\n",
      "Epoch 75/100\n",
      "5359/5359 [==============================] - 1s 151us/step - loss: 0.3352 - accuracy: 0.8643 - val_loss: 0.3606 - val_accuracy: 0.8519\n",
      "Epoch 76/100\n",
      "5359/5359 [==============================] - 1s 145us/step - loss: 0.3354 - accuracy: 0.8638 - val_loss: 0.3596 - val_accuracy: 0.8527\n",
      "Epoch 77/100\n",
      "5359/5359 [==============================] - 1s 199us/step - loss: 0.3351 - accuracy: 0.8636 - val_loss: 0.3600 - val_accuracy: 0.8512\n",
      "Epoch 78/100\n",
      "5359/5359 [==============================] - 1s 184us/step - loss: 0.3350 - accuracy: 0.8640 - val_loss: 0.3598 - val_accuracy: 0.8508\n",
      "Epoch 79/100\n",
      "5359/5359 [==============================] - 1s 211us/step - loss: 0.3349 - accuracy: 0.8638 - val_loss: 0.3598 - val_accuracy: 0.8519\n",
      "Epoch 80/100\n",
      "5359/5359 [==============================] - 1s 181us/step - loss: 0.3348 - accuracy: 0.8632 - val_loss: 0.3597 - val_accuracy: 0.8523\n",
      "Epoch 81/100\n",
      "5359/5359 [==============================] - 1s 113us/step - loss: 0.3344 - accuracy: 0.8653 - val_loss: 0.3595 - val_accuracy: 0.8527\n",
      "Epoch 82/100\n",
      "5359/5359 [==============================] - 1s 128us/step - loss: 0.3346 - accuracy: 0.8647 - val_loss: 0.3590 - val_accuracy: 0.8523\n",
      "Epoch 83/100\n",
      "5359/5359 [==============================] - 1s 139us/step - loss: 0.3344 - accuracy: 0.8649 - val_loss: 0.3593 - val_accuracy: 0.8535\n",
      "Epoch 84/100\n",
      "5359/5359 [==============================] - 1s 142us/step - loss: 0.3338 - accuracy: 0.8628 - val_loss: 0.3591 - val_accuracy: 0.8523\n",
      "Epoch 85/100\n",
      "5359/5359 [==============================] - 1s 145us/step - loss: 0.3340 - accuracy: 0.8668 - val_loss: 0.3583 - val_accuracy: 0.8546\n",
      "Epoch 86/100\n",
      "5359/5359 [==============================] - 1s 144us/step - loss: 0.3337 - accuracy: 0.8649 - val_loss: 0.3590 - val_accuracy: 0.8523\n",
      "Epoch 87/100\n",
      "5359/5359 [==============================] - 1s 138us/step - loss: 0.3336 - accuracy: 0.8645 - val_loss: 0.3580 - val_accuracy: 0.8542\n",
      "Epoch 88/100\n",
      "5359/5359 [==============================] - 1s 160us/step - loss: 0.3333 - accuracy: 0.8643 - val_loss: 0.3577 - val_accuracy: 0.8546\n",
      "Epoch 89/100\n",
      "5359/5359 [==============================] - 1s 178us/step - loss: 0.3331 - accuracy: 0.8655 - val_loss: 0.3584 - val_accuracy: 0.8535\n",
      "Epoch 90/100\n",
      "5359/5359 [==============================] - 1s 196us/step - loss: 0.3333 - accuracy: 0.8651 - val_loss: 0.3581 - val_accuracy: 0.8523\n",
      "Epoch 91/100\n",
      "5359/5359 [==============================] - 1s 185us/step - loss: 0.3330 - accuracy: 0.8653 - val_loss: 0.3582 - val_accuracy: 0.8538\n",
      "Epoch 92/100\n",
      "5359/5359 [==============================] - 1s 184us/step - loss: 0.3332 - accuracy: 0.8643 - val_loss: 0.3583 - val_accuracy: 0.8542\n",
      "Epoch 93/100\n",
      "5359/5359 [==============================] - 1s 162us/step - loss: 0.3330 - accuracy: 0.8645 - val_loss: 0.3573 - val_accuracy: 0.8542\n",
      "Epoch 94/100\n",
      "5359/5359 [==============================] - 1s 118us/step - loss: 0.3328 - accuracy: 0.8638 - val_loss: 0.3578 - val_accuracy: 0.8538\n",
      "Epoch 95/100\n",
      "5359/5359 [==============================] - 1s 120us/step - loss: 0.3326 - accuracy: 0.8647 - val_loss: 0.3577 - val_accuracy: 0.8565\n",
      "Epoch 96/100\n",
      "5359/5359 [==============================] - 1s 114us/step - loss: 0.3327 - accuracy: 0.8647 - val_loss: 0.3574 - val_accuracy: 0.8557\n",
      "Epoch 97/100\n",
      "5359/5359 [==============================] - 1s 104us/step - loss: 0.3324 - accuracy: 0.8649 - val_loss: 0.3576 - val_accuracy: 0.8546\n",
      "Epoch 98/100\n",
      "5359/5359 [==============================] - 1s 103us/step - loss: 0.3322 - accuracy: 0.8634 - val_loss: 0.3578 - val_accuracy: 0.8546\n",
      "Epoch 99/100\n",
      "5359/5359 [==============================] - 1s 109us/step - loss: 0.3325 - accuracy: 0.8653 - val_loss: 0.3570 - val_accuracy: 0.8557\n",
      "Epoch 100/100\n",
      "5359/5359 [==============================] - 1s 110us/step - loss: 0.3323 - accuracy: 0.8649 - val_loss: 0.3572 - val_accuracy: 0.8554\n"
     ]
    }
   ],
   "source": [
    "# Fitting the ANN to the Training set\n",
    "model_history=classifier.fit(X_train, y_train,validation_split=0.33, batch_size = 10, nb_epoch = 100)"
   ]
  },
  {
   "cell_type": "code",
   "execution_count": 23,
   "metadata": {},
   "outputs": [],
   "source": [
    "# Making the predictions and evaluating the model\n",
    "\n",
    "# Predicting the Test set results\n",
    "y_pred = classifier.predict(X_test)\n",
    "y_pred = (y_pred > 0.5)\n",
    "\n"
   ]
  },
  {
   "cell_type": "code",
   "execution_count": 24,
   "metadata": {},
   "outputs": [
    {
     "data": {
      "text/plain": [
       "array([[1524,   71],\n",
       "       [ 199,  206]])"
      ]
     },
     "execution_count": 24,
     "metadata": {},
     "output_type": "execute_result"
    }
   ],
   "source": [
    "# Making the Confusion Matrix\n",
    "from sklearn.metrics import confusion_matrix\n",
    "cm = confusion_matrix(y_test, y_pred)\n",
    "cm"
   ]
  },
  {
   "cell_type": "code",
   "execution_count": 25,
   "metadata": {},
   "outputs": [
    {
     "data": {
      "text/plain": [
       "0.865"
      ]
     },
     "execution_count": 25,
     "metadata": {},
     "output_type": "execute_result"
    }
   ],
   "source": [
    "# Calculate the Accuracy\n",
    "from sklearn.metrics import accuracy_score\n",
    "score=accuracy_score(y_pred,y_test)\n",
    "score"
   ]
  },
  {
   "cell_type": "code",
   "execution_count": null,
   "metadata": {},
   "outputs": [],
   "source": []
  }
 ],
 "metadata": {
  "kernelspec": {
   "display_name": "Python 3",
   "language": "python",
   "name": "python3"
  },
  "language_info": {
   "codemirror_mode": {
    "name": "ipython",
    "version": 3
   },
   "file_extension": ".py",
   "mimetype": "text/x-python",
   "name": "python",
   "nbconvert_exporter": "python",
   "pygments_lexer": "ipython3",
   "version": "3.7.6"
  }
 },
 "nbformat": 4,
 "nbformat_minor": 4
}
