{
 "cells": [
  {
   "cell_type": "markdown",
   "metadata": {},
   "source": [
    "# ANN"
   ]
  },
  {
   "cell_type": "code",
   "execution_count": 1,
   "metadata": {},
   "outputs": [],
   "source": [
    "import numpy as np\n",
    "import matplotlib.pyplot as plt\n",
    "import pandas as pd"
   ]
  },
  {
   "cell_type": "code",
   "execution_count": 2,
   "metadata": {},
   "outputs": [
    {
     "data": {
      "text/html": [
       "<div>\n",
       "<style scoped>\n",
       "    .dataframe tbody tr th:only-of-type {\n",
       "        vertical-align: middle;\n",
       "    }\n",
       "\n",
       "    .dataframe tbody tr th {\n",
       "        vertical-align: top;\n",
       "    }\n",
       "\n",
       "    .dataframe thead th {\n",
       "        text-align: right;\n",
       "    }\n",
       "</style>\n",
       "<table border=\"1\" class=\"dataframe\">\n",
       "  <thead>\n",
       "    <tr style=\"text-align: right;\">\n",
       "      <th></th>\n",
       "      <th>RowNumber</th>\n",
       "      <th>CustomerId</th>\n",
       "      <th>Surname</th>\n",
       "      <th>CreditScore</th>\n",
       "      <th>Geography</th>\n",
       "      <th>Gender</th>\n",
       "      <th>Age</th>\n",
       "      <th>Tenure</th>\n",
       "      <th>Balance</th>\n",
       "      <th>NumOfProducts</th>\n",
       "      <th>HasCrCard</th>\n",
       "      <th>IsActiveMember</th>\n",
       "      <th>EstimatedSalary</th>\n",
       "      <th>Exited</th>\n",
       "    </tr>\n",
       "  </thead>\n",
       "  <tbody>\n",
       "    <tr>\n",
       "      <th>0</th>\n",
       "      <td>1</td>\n",
       "      <td>15634602</td>\n",
       "      <td>Hargrave</td>\n",
       "      <td>619</td>\n",
       "      <td>France</td>\n",
       "      <td>Female</td>\n",
       "      <td>42</td>\n",
       "      <td>2</td>\n",
       "      <td>0.00</td>\n",
       "      <td>1</td>\n",
       "      <td>1</td>\n",
       "      <td>1</td>\n",
       "      <td>101348.88</td>\n",
       "      <td>1</td>\n",
       "    </tr>\n",
       "    <tr>\n",
       "      <th>1</th>\n",
       "      <td>2</td>\n",
       "      <td>15647311</td>\n",
       "      <td>Hill</td>\n",
       "      <td>608</td>\n",
       "      <td>Spain</td>\n",
       "      <td>Female</td>\n",
       "      <td>41</td>\n",
       "      <td>1</td>\n",
       "      <td>83807.86</td>\n",
       "      <td>1</td>\n",
       "      <td>0</td>\n",
       "      <td>1</td>\n",
       "      <td>112542.58</td>\n",
       "      <td>0</td>\n",
       "    </tr>\n",
       "    <tr>\n",
       "      <th>2</th>\n",
       "      <td>3</td>\n",
       "      <td>15619304</td>\n",
       "      <td>Onio</td>\n",
       "      <td>502</td>\n",
       "      <td>France</td>\n",
       "      <td>Female</td>\n",
       "      <td>42</td>\n",
       "      <td>8</td>\n",
       "      <td>159660.80</td>\n",
       "      <td>3</td>\n",
       "      <td>1</td>\n",
       "      <td>0</td>\n",
       "      <td>113931.57</td>\n",
       "      <td>1</td>\n",
       "    </tr>\n",
       "    <tr>\n",
       "      <th>3</th>\n",
       "      <td>4</td>\n",
       "      <td>15701354</td>\n",
       "      <td>Boni</td>\n",
       "      <td>699</td>\n",
       "      <td>France</td>\n",
       "      <td>Female</td>\n",
       "      <td>39</td>\n",
       "      <td>1</td>\n",
       "      <td>0.00</td>\n",
       "      <td>2</td>\n",
       "      <td>0</td>\n",
       "      <td>0</td>\n",
       "      <td>93826.63</td>\n",
       "      <td>0</td>\n",
       "    </tr>\n",
       "    <tr>\n",
       "      <th>4</th>\n",
       "      <td>5</td>\n",
       "      <td>15737888</td>\n",
       "      <td>Mitchell</td>\n",
       "      <td>850</td>\n",
       "      <td>Spain</td>\n",
       "      <td>Female</td>\n",
       "      <td>43</td>\n",
       "      <td>2</td>\n",
       "      <td>125510.82</td>\n",
       "      <td>1</td>\n",
       "      <td>1</td>\n",
       "      <td>1</td>\n",
       "      <td>79084.10</td>\n",
       "      <td>0</td>\n",
       "    </tr>\n",
       "  </tbody>\n",
       "</table>\n",
       "</div>"
      ],
      "text/plain": [
       "   RowNumber  CustomerId   Surname  CreditScore Geography  Gender  Age  \\\n",
       "0          1    15634602  Hargrave          619    France  Female   42   \n",
       "1          2    15647311      Hill          608     Spain  Female   41   \n",
       "2          3    15619304      Onio          502    France  Female   42   \n",
       "3          4    15701354      Boni          699    France  Female   39   \n",
       "4          5    15737888  Mitchell          850     Spain  Female   43   \n",
       "\n",
       "   Tenure    Balance  NumOfProducts  HasCrCard  IsActiveMember  \\\n",
       "0       2       0.00              1          1               1   \n",
       "1       1   83807.86              1          0               1   \n",
       "2       8  159660.80              3          1               0   \n",
       "3       1       0.00              2          0               0   \n",
       "4       2  125510.82              1          1               1   \n",
       "\n",
       "   EstimatedSalary  Exited  \n",
       "0        101348.88       1  \n",
       "1        112542.58       0  \n",
       "2        113931.57       1  \n",
       "3         93826.63       0  \n",
       "4         79084.10       0  "
      ]
     },
     "execution_count": 2,
     "metadata": {},
     "output_type": "execute_result"
    }
   ],
   "source": [
    "dataset = pd.read_csv('Churn_Modelling.csv')\n",
    "dataset.head()"
   ]
  },
  {
   "cell_type": "code",
   "execution_count": 3,
   "metadata": {},
   "outputs": [],
   "source": [
    "X = dataset.iloc[:, 3:13]\n",
    "y = dataset.iloc[:, 13]"
   ]
  },
  {
   "cell_type": "markdown",
   "metadata": {},
   "source": [
    "### Create dummy variables"
   ]
  },
  {
   "cell_type": "code",
   "execution_count": 4,
   "metadata": {},
   "outputs": [],
   "source": [
    "geography=pd.get_dummies(X[\"Geography\"],drop_first=True)\n",
    "gender=pd.get_dummies(X['Gender'],drop_first=True)"
   ]
  },
  {
   "cell_type": "markdown",
   "metadata": {},
   "source": [
    "### Concatenate the Data Frames"
   ]
  },
  {
   "cell_type": "code",
   "execution_count": 5,
   "metadata": {},
   "outputs": [],
   "source": [
    "X=pd.concat([X,geography,gender],axis=1)"
   ]
  },
  {
   "cell_type": "markdown",
   "metadata": {},
   "source": [
    "### Drop Unnecessary columns"
   ]
  },
  {
   "cell_type": "code",
   "execution_count": 6,
   "metadata": {},
   "outputs": [],
   "source": [
    "X=X.drop(['Geography','Gender'],axis=1)"
   ]
  },
  {
   "cell_type": "markdown",
   "metadata": {},
   "source": [
    "### Splitting the dataset into the Training set and Test set"
   ]
  },
  {
   "cell_type": "code",
   "execution_count": 7,
   "metadata": {},
   "outputs": [],
   "source": [
    "from sklearn.model_selection import train_test_split\n",
    "X_train, X_test, y_train, y_test = train_test_split(X, y, test_size = 0.2, random_state = 0)"
   ]
  },
  {
   "cell_type": "markdown",
   "metadata": {},
   "source": [
    "### Feature Scaling"
   ]
  },
  {
   "cell_type": "code",
   "execution_count": 8,
   "metadata": {},
   "outputs": [],
   "source": [
    "from sklearn.preprocessing import StandardScaler\n",
    "sc = StandardScaler()\n",
    "X_train = sc.fit_transform(X_train)\n",
    "X_test = sc.transform(X_test)"
   ]
  },
  {
   "cell_type": "markdown",
   "metadata": {},
   "source": [
    "# Now let's make the ANN!"
   ]
  },
  {
   "cell_type": "markdown",
   "metadata": {},
   "source": [
    "### Importing the Keras libraries and packages"
   ]
  },
  {
   "cell_type": "code",
   "execution_count": 9,
   "metadata": {},
   "outputs": [
    {
     "name": "stderr",
     "output_type": "stream",
     "text": [
      "Using TensorFlow backend.\n"
     ]
    }
   ],
   "source": [
    "import keras\n",
    "from keras.models import Sequential\n",
    "from keras.layers import Dense\n",
    "from keras.layers import LeakyReLU,PReLU,ELU\n",
    "from keras.layers import Dropout\n"
   ]
  },
  {
   "cell_type": "code",
   "execution_count": 10,
   "metadata": {},
   "outputs": [],
   "source": [
    "# Initialising the ANN\n",
    "classifier = Sequential()"
   ]
  },
  {
   "cell_type": "code",
   "execution_count": 11,
   "metadata": {},
   "outputs": [
    {
     "name": "stderr",
     "output_type": "stream",
     "text": [
      "/home/machadalouser/anaconda3/lib/python3.7/site-packages/ipykernel_launcher.py:2: UserWarning: Update your `Dense` call to the Keras 2 API: `Dense(activation=\"relu\", input_dim=11, units=6, kernel_initializer=\"he_uniform\")`\n",
      "  \n"
     ]
    }
   ],
   "source": [
    "# Adding the input layer and the first hidden layer\n",
    "classifier.add(Dense(output_dim = 6, init = 'he_uniform',activation='relu',input_dim = 11))\n",
    "\n"
   ]
  },
  {
   "cell_type": "code",
   "execution_count": 12,
   "metadata": {},
   "outputs": [
    {
     "name": "stderr",
     "output_type": "stream",
     "text": [
      "/home/machadalouser/anaconda3/lib/python3.7/site-packages/ipykernel_launcher.py:2: UserWarning: Update your `Dense` call to the Keras 2 API: `Dense(activation=\"relu\", units=6, kernel_initializer=\"he_uniform\")`\n",
      "  \n"
     ]
    }
   ],
   "source": [
    "# Adding the second hidden layer\n",
    "classifier.add(Dense(output_dim = 6, init = 'he_uniform',activation='relu'))\n"
   ]
  },
  {
   "cell_type": "code",
   "execution_count": 13,
   "metadata": {},
   "outputs": [
    {
     "name": "stderr",
     "output_type": "stream",
     "text": [
      "/home/machadalouser/anaconda3/lib/python3.7/site-packages/ipykernel_launcher.py:2: UserWarning: Update your `Dense` call to the Keras 2 API: `Dense(activation=\"sigmoid\", units=1, kernel_initializer=\"glorot_uniform\")`\n",
      "  \n"
     ]
    }
   ],
   "source": [
    "# Adding the output layer\n",
    "classifier.add(Dense(output_dim = 1, init = 'glorot_uniform', activation = 'sigmoid'))\n"
   ]
  },
  {
   "cell_type": "code",
   "execution_count": 14,
   "metadata": {},
   "outputs": [],
   "source": [
    "# Compiling the ANN\n",
    "classifier.compile(optimizer = 'Adamax', loss = 'binary_crossentropy', metrics = ['accuracy'])"
   ]
  },
  {
   "cell_type": "code",
   "execution_count": 15,
   "metadata": {},
   "outputs": [
    {
     "name": "stderr",
     "output_type": "stream",
     "text": [
      "/home/machadalouser/anaconda3/lib/python3.7/site-packages/ipykernel_launcher.py:2: UserWarning: The `nb_epoch` argument in `fit` has been renamed `epochs`.\n",
      "  \n"
     ]
    },
    {
     "name": "stdout",
     "output_type": "stream",
     "text": [
      "Train on 5359 samples, validate on 2641 samples\n",
      "Epoch 1/100\n",
      "5359/5359 [==============================] - 1s 159us/step - loss: 0.6601 - accuracy: 0.6630 - val_loss: 0.5438 - val_accuracy: 0.7933\n",
      "Epoch 2/100\n",
      "5359/5359 [==============================] - 1s 141us/step - loss: 0.5189 - accuracy: 0.7959 - val_loss: 0.5030 - val_accuracy: 0.7955\n",
      "Epoch 3/100\n",
      "5359/5359 [==============================] - 1s 135us/step - loss: 0.4927 - accuracy: 0.7964 - val_loss: 0.4863 - val_accuracy: 0.7952\n",
      "Epoch 4/100\n",
      "5359/5359 [==============================] - 1s 129us/step - loss: 0.4724 - accuracy: 0.7988 - val_loss: 0.4685 - val_accuracy: 0.7997\n",
      "Epoch 5/100\n",
      "5359/5359 [==============================] - 1s 126us/step - loss: 0.4542 - accuracy: 0.8043 - val_loss: 0.4547 - val_accuracy: 0.8084\n",
      "Epoch 6/100\n",
      "5359/5359 [==============================] - 1s 135us/step - loss: 0.4391 - accuracy: 0.8108 - val_loss: 0.4450 - val_accuracy: 0.8160\n",
      "Epoch 7/100\n",
      "5359/5359 [==============================] - 1s 125us/step - loss: 0.4278 - accuracy: 0.8179 - val_loss: 0.4373 - val_accuracy: 0.8133\n",
      "Epoch 8/100\n",
      "5359/5359 [==============================] - 1s 126us/step - loss: 0.4183 - accuracy: 0.8250 - val_loss: 0.4302 - val_accuracy: 0.8186\n",
      "Epoch 9/100\n",
      "5359/5359 [==============================] - 1s 126us/step - loss: 0.4107 - accuracy: 0.8276 - val_loss: 0.4241 - val_accuracy: 0.8190\n",
      "Epoch 10/100\n",
      "5359/5359 [==============================] - 1s 133us/step - loss: 0.4035 - accuracy: 0.8294 - val_loss: 0.4176 - val_accuracy: 0.8213\n",
      "Epoch 11/100\n",
      "5359/5359 [==============================] - 1s 123us/step - loss: 0.3967 - accuracy: 0.8337 - val_loss: 0.4110 - val_accuracy: 0.8254\n",
      "Epoch 12/100\n",
      "5359/5359 [==============================] - 1s 133us/step - loss: 0.3899 - accuracy: 0.8373 - val_loss: 0.4043 - val_accuracy: 0.8307\n",
      "Epoch 13/100\n",
      "5359/5359 [==============================] - 1s 135us/step - loss: 0.3825 - accuracy: 0.8410 - val_loss: 0.3973 - val_accuracy: 0.8338\n",
      "Epoch 14/100\n",
      "5359/5359 [==============================] - 1s 139us/step - loss: 0.3757 - accuracy: 0.8444 - val_loss: 0.3912 - val_accuracy: 0.8395\n",
      "Epoch 15/100\n",
      "5359/5359 [==============================] - 1s 125us/step - loss: 0.3692 - accuracy: 0.8477 - val_loss: 0.3849 - val_accuracy: 0.8425\n",
      "Epoch 16/100\n",
      "5359/5359 [==============================] - 1s 125us/step - loss: 0.3632 - accuracy: 0.8498 - val_loss: 0.3801 - val_accuracy: 0.8432\n",
      "Epoch 17/100\n",
      "5359/5359 [==============================] - 1s 137us/step - loss: 0.3581 - accuracy: 0.8522 - val_loss: 0.3765 - val_accuracy: 0.8436\n",
      "Epoch 18/100\n",
      "5359/5359 [==============================] - 1s 133us/step - loss: 0.3542 - accuracy: 0.8550 - val_loss: 0.3729 - val_accuracy: 0.8455\n",
      "Epoch 19/100\n",
      "5359/5359 [==============================] - 1s 139us/step - loss: 0.3505 - accuracy: 0.8569 - val_loss: 0.3702 - val_accuracy: 0.8466\n",
      "Epoch 20/100\n",
      "5359/5359 [==============================] - 1s 125us/step - loss: 0.3472 - accuracy: 0.8591 - val_loss: 0.3675 - val_accuracy: 0.8497\n",
      "Epoch 21/100\n",
      "5359/5359 [==============================] - 1s 133us/step - loss: 0.3447 - accuracy: 0.8600 - val_loss: 0.3659 - val_accuracy: 0.8485\n",
      "Epoch 22/100\n",
      "5359/5359 [==============================] - 1s 136us/step - loss: 0.3427 - accuracy: 0.8604 - val_loss: 0.3642 - val_accuracy: 0.8512\n",
      "Epoch 23/100\n",
      "5359/5359 [==============================] - 1s 134us/step - loss: 0.3408 - accuracy: 0.8621 - val_loss: 0.3636 - val_accuracy: 0.8508\n",
      "Epoch 24/100\n",
      "5359/5359 [==============================] - 1s 137us/step - loss: 0.3397 - accuracy: 0.8619 - val_loss: 0.3625 - val_accuracy: 0.8531\n",
      "Epoch 25/100\n",
      "5359/5359 [==============================] - 1s 137us/step - loss: 0.3384 - accuracy: 0.8606 - val_loss: 0.3618 - val_accuracy: 0.8535\n",
      "Epoch 26/100\n",
      "5359/5359 [==============================] - 1s 139us/step - loss: 0.3377 - accuracy: 0.8630 - val_loss: 0.3617 - val_accuracy: 0.8538\n",
      "Epoch 27/100\n",
      "5359/5359 [==============================] - 1s 126us/step - loss: 0.3370 - accuracy: 0.8627 - val_loss: 0.3617 - val_accuracy: 0.8531\n",
      "Epoch 28/100\n",
      "5359/5359 [==============================] - 1s 140us/step - loss: 0.3364 - accuracy: 0.8617 - val_loss: 0.3604 - val_accuracy: 0.8542\n",
      "Epoch 29/100\n",
      "5359/5359 [==============================] - 1s 136us/step - loss: 0.3356 - accuracy: 0.8614 - val_loss: 0.3617 - val_accuracy: 0.8523\n",
      "Epoch 30/100\n",
      "5359/5359 [==============================] - 1s 131us/step - loss: 0.3354 - accuracy: 0.8627 - val_loss: 0.3608 - val_accuracy: 0.8512\n",
      "Epoch 31/100\n",
      "5359/5359 [==============================] - 1s 137us/step - loss: 0.3344 - accuracy: 0.8645 - val_loss: 0.3616 - val_accuracy: 0.8531\n",
      "Epoch 32/100\n",
      "5359/5359 [==============================] - 1s 134us/step - loss: 0.3345 - accuracy: 0.8636 - val_loss: 0.3603 - val_accuracy: 0.8516\n",
      "Epoch 33/100\n",
      "5359/5359 [==============================] - 1s 131us/step - loss: 0.3344 - accuracy: 0.8640 - val_loss: 0.3597 - val_accuracy: 0.8519\n",
      "Epoch 34/100\n",
      "5359/5359 [==============================] - 1s 134us/step - loss: 0.3337 - accuracy: 0.8640 - val_loss: 0.3597 - val_accuracy: 0.8523\n",
      "Epoch 35/100\n",
      "5359/5359 [==============================] - 1s 126us/step - loss: 0.3337 - accuracy: 0.8627 - val_loss: 0.3594 - val_accuracy: 0.8542\n",
      "Epoch 36/100\n",
      "5359/5359 [==============================] - 1s 133us/step - loss: 0.3332 - accuracy: 0.8628 - val_loss: 0.3592 - val_accuracy: 0.8527\n",
      "Epoch 37/100\n",
      "5359/5359 [==============================] - 1s 125us/step - loss: 0.3332 - accuracy: 0.8621 - val_loss: 0.3590 - val_accuracy: 0.8519\n",
      "Epoch 38/100\n",
      "5359/5359 [==============================] - 1s 132us/step - loss: 0.3328 - accuracy: 0.8638 - val_loss: 0.3586 - val_accuracy: 0.8550\n",
      "Epoch 39/100\n",
      "5359/5359 [==============================] - 1s 125us/step - loss: 0.3323 - accuracy: 0.8643 - val_loss: 0.3608 - val_accuracy: 0.8516\n",
      "Epoch 40/100\n",
      "5359/5359 [==============================] - 1s 130us/step - loss: 0.3326 - accuracy: 0.8615 - val_loss: 0.3590 - val_accuracy: 0.8531\n",
      "Epoch 41/100\n",
      "5359/5359 [==============================] - 1s 125us/step - loss: 0.3322 - accuracy: 0.8643 - val_loss: 0.3585 - val_accuracy: 0.8538\n",
      "Epoch 42/100\n",
      "5359/5359 [==============================] - 1s 130us/step - loss: 0.3320 - accuracy: 0.8642 - val_loss: 0.3584 - val_accuracy: 0.8542\n",
      "Epoch 43/100\n",
      "5359/5359 [==============================] - 1s 132us/step - loss: 0.3322 - accuracy: 0.8619 - val_loss: 0.3581 - val_accuracy: 0.8538\n",
      "Epoch 44/100\n",
      "5359/5359 [==============================] - 1s 123us/step - loss: 0.3317 - accuracy: 0.8658 - val_loss: 0.3585 - val_accuracy: 0.8550\n",
      "Epoch 45/100\n",
      "5359/5359 [==============================] - 1s 123us/step - loss: 0.3316 - accuracy: 0.8653 - val_loss: 0.3586 - val_accuracy: 0.8531\n",
      "Epoch 46/100\n",
      "5359/5359 [==============================] - 1s 133us/step - loss: 0.3315 - accuracy: 0.8625 - val_loss: 0.3580 - val_accuracy: 0.8542\n",
      "Epoch 47/100\n",
      "5359/5359 [==============================] - 1s 122us/step - loss: 0.3313 - accuracy: 0.8647 - val_loss: 0.3577 - val_accuracy: 0.8542\n",
      "Epoch 48/100\n",
      "5359/5359 [==============================] - 1s 134us/step - loss: 0.3311 - accuracy: 0.8651 - val_loss: 0.3581 - val_accuracy: 0.8550\n",
      "Epoch 49/100\n",
      "5359/5359 [==============================] - 1s 129us/step - loss: 0.3312 - accuracy: 0.8645 - val_loss: 0.3573 - val_accuracy: 0.8535\n",
      "Epoch 50/100\n",
      "5359/5359 [==============================] - 1s 132us/step - loss: 0.3310 - accuracy: 0.8640 - val_loss: 0.3572 - val_accuracy: 0.8538\n",
      "Epoch 51/100\n",
      "5359/5359 [==============================] - 1s 126us/step - loss: 0.3308 - accuracy: 0.8655 - val_loss: 0.3574 - val_accuracy: 0.8546\n",
      "Epoch 52/100\n",
      "5359/5359 [==============================] - 1s 129us/step - loss: 0.3308 - accuracy: 0.8640 - val_loss: 0.3568 - val_accuracy: 0.8554\n",
      "Epoch 53/100\n",
      "5359/5359 [==============================] - 1s 139us/step - loss: 0.3304 - accuracy: 0.8638 - val_loss: 0.3564 - val_accuracy: 0.8550\n",
      "Epoch 54/100\n",
      "5359/5359 [==============================] - 1s 149us/step - loss: 0.3303 - accuracy: 0.8645 - val_loss: 0.3563 - val_accuracy: 0.8561\n",
      "Epoch 55/100\n",
      "5359/5359 [==============================] - 1s 185us/step - loss: 0.3303 - accuracy: 0.8640 - val_loss: 0.3565 - val_accuracy: 0.8550\n",
      "Epoch 56/100\n"
     ]
    },
    {
     "name": "stdout",
     "output_type": "stream",
     "text": [
      "5359/5359 [==============================] - 1s 134us/step - loss: 0.3301 - accuracy: 0.8660 - val_loss: 0.3562 - val_accuracy: 0.8550\n",
      "Epoch 57/100\n",
      "5359/5359 [==============================] - 1s 134us/step - loss: 0.3301 - accuracy: 0.8653 - val_loss: 0.3561 - val_accuracy: 0.8542\n",
      "Epoch 58/100\n",
      "5359/5359 [==============================] - 1s 143us/step - loss: 0.3300 - accuracy: 0.8640 - val_loss: 0.3565 - val_accuracy: 0.8538\n",
      "Epoch 59/100\n",
      "5359/5359 [==============================] - 1s 124us/step - loss: 0.3298 - accuracy: 0.8640 - val_loss: 0.3560 - val_accuracy: 0.8561\n",
      "Epoch 60/100\n",
      "5359/5359 [==============================] - 1s 124us/step - loss: 0.3297 - accuracy: 0.8647 - val_loss: 0.3562 - val_accuracy: 0.8557\n",
      "Epoch 61/100\n",
      "5359/5359 [==============================] - 1s 119us/step - loss: 0.3297 - accuracy: 0.8651 - val_loss: 0.3560 - val_accuracy: 0.8542\n",
      "Epoch 62/100\n",
      "5359/5359 [==============================] - 1s 134us/step - loss: 0.3293 - accuracy: 0.8642 - val_loss: 0.3557 - val_accuracy: 0.8535\n",
      "Epoch 63/100\n",
      "5359/5359 [==============================] - 1s 125us/step - loss: 0.3294 - accuracy: 0.8649 - val_loss: 0.3552 - val_accuracy: 0.8576\n",
      "Epoch 64/100\n",
      "5359/5359 [==============================] - 1s 121us/step - loss: 0.3294 - accuracy: 0.8653 - val_loss: 0.3553 - val_accuracy: 0.8554\n",
      "Epoch 65/100\n",
      "5359/5359 [==============================] - 1s 116us/step - loss: 0.3293 - accuracy: 0.8656 - val_loss: 0.3555 - val_accuracy: 0.8565\n",
      "Epoch 66/100\n",
      "5359/5359 [==============================] - 1s 127us/step - loss: 0.3292 - accuracy: 0.8643 - val_loss: 0.3556 - val_accuracy: 0.8554\n",
      "Epoch 67/100\n",
      "5359/5359 [==============================] - 1s 112us/step - loss: 0.3290 - accuracy: 0.8640 - val_loss: 0.3548 - val_accuracy: 0.8569\n",
      "Epoch 68/100\n",
      "5359/5359 [==============================] - 1s 117us/step - loss: 0.3289 - accuracy: 0.8655 - val_loss: 0.3548 - val_accuracy: 0.8565\n",
      "Epoch 69/100\n",
      "5359/5359 [==============================] - 1s 139us/step - loss: 0.3288 - accuracy: 0.8628 - val_loss: 0.3550 - val_accuracy: 0.8573\n",
      "Epoch 70/100\n",
      "5359/5359 [==============================] - 1s 125us/step - loss: 0.3288 - accuracy: 0.8645 - val_loss: 0.3545 - val_accuracy: 0.8580\n",
      "Epoch 71/100\n",
      "5359/5359 [==============================] - 1s 140us/step - loss: 0.3288 - accuracy: 0.8658 - val_loss: 0.3548 - val_accuracy: 0.8565\n",
      "Epoch 72/100\n",
      "5359/5359 [==============================] - 1s 132us/step - loss: 0.3290 - accuracy: 0.8664 - val_loss: 0.3544 - val_accuracy: 0.8573\n",
      "Epoch 73/100\n",
      "5359/5359 [==============================] - 1s 119us/step - loss: 0.3285 - accuracy: 0.8640 - val_loss: 0.3541 - val_accuracy: 0.8576\n",
      "Epoch 74/100\n",
      "5359/5359 [==============================] - 1s 126us/step - loss: 0.3287 - accuracy: 0.8653 - val_loss: 0.3550 - val_accuracy: 0.8580\n",
      "Epoch 75/100\n",
      "5359/5359 [==============================] - 1s 126us/step - loss: 0.3286 - accuracy: 0.8647 - val_loss: 0.3541 - val_accuracy: 0.8588\n",
      "Epoch 76/100\n",
      "5359/5359 [==============================] - 1s 129us/step - loss: 0.3285 - accuracy: 0.8651 - val_loss: 0.3544 - val_accuracy: 0.8573\n",
      "Epoch 77/100\n",
      "5359/5359 [==============================] - 1s 120us/step - loss: 0.3286 - accuracy: 0.8664 - val_loss: 0.3542 - val_accuracy: 0.8580\n",
      "Epoch 78/100\n",
      "5359/5359 [==============================] - 1s 137us/step - loss: 0.3281 - accuracy: 0.8666 - val_loss: 0.3551 - val_accuracy: 0.8580\n",
      "Epoch 79/100\n",
      "5359/5359 [==============================] - 1s 124us/step - loss: 0.3286 - accuracy: 0.8645 - val_loss: 0.3542 - val_accuracy: 0.8576\n",
      "Epoch 80/100\n",
      "5359/5359 [==============================] - 1s 134us/step - loss: 0.3284 - accuracy: 0.8653 - val_loss: 0.3540 - val_accuracy: 0.8591\n",
      "Epoch 81/100\n",
      "5359/5359 [==============================] - 1s 132us/step - loss: 0.3279 - accuracy: 0.8643 - val_loss: 0.3540 - val_accuracy: 0.8580\n",
      "Epoch 82/100\n",
      "5359/5359 [==============================] - 1s 135us/step - loss: 0.3280 - accuracy: 0.8649 - val_loss: 0.3538 - val_accuracy: 0.8573\n",
      "Epoch 83/100\n",
      "5359/5359 [==============================] - 1s 121us/step - loss: 0.3278 - accuracy: 0.8647 - val_loss: 0.3544 - val_accuracy: 0.8603\n",
      "Epoch 84/100\n",
      "5359/5359 [==============================] - 1s 130us/step - loss: 0.3278 - accuracy: 0.8632 - val_loss: 0.3538 - val_accuracy: 0.8607\n",
      "Epoch 85/100\n",
      "5359/5359 [==============================] - 1s 121us/step - loss: 0.3281 - accuracy: 0.8649 - val_loss: 0.3536 - val_accuracy: 0.8591\n",
      "Epoch 86/100\n",
      "5359/5359 [==============================] - 1s 124us/step - loss: 0.3277 - accuracy: 0.8638 - val_loss: 0.3538 - val_accuracy: 0.8588\n",
      "Epoch 87/100\n",
      "5359/5359 [==============================] - 1s 135us/step - loss: 0.3278 - accuracy: 0.8649 - val_loss: 0.3535 - val_accuracy: 0.8580\n",
      "Epoch 88/100\n",
      "5359/5359 [==============================] - 1s 131us/step - loss: 0.3275 - accuracy: 0.8653 - val_loss: 0.3533 - val_accuracy: 0.8591\n",
      "Epoch 89/100\n",
      "5359/5359 [==============================] - 1s 122us/step - loss: 0.3277 - accuracy: 0.8638 - val_loss: 0.3535 - val_accuracy: 0.8584\n",
      "Epoch 90/100\n",
      "5359/5359 [==============================] - 1s 131us/step - loss: 0.3274 - accuracy: 0.8649 - val_loss: 0.3540 - val_accuracy: 0.8573\n",
      "Epoch 91/100\n",
      "5359/5359 [==============================] - 1s 135us/step - loss: 0.3275 - accuracy: 0.8649 - val_loss: 0.3533 - val_accuracy: 0.8588\n",
      "Epoch 92/100\n",
      "5359/5359 [==============================] - 1s 119us/step - loss: 0.3269 - accuracy: 0.8642 - val_loss: 0.3566 - val_accuracy: 0.8561\n",
      "Epoch 93/100\n",
      "5359/5359 [==============================] - 1s 123us/step - loss: 0.3272 - accuracy: 0.8670 - val_loss: 0.3540 - val_accuracy: 0.8595\n",
      "Epoch 94/100\n",
      "5359/5359 [==============================] - 1s 124us/step - loss: 0.3265 - accuracy: 0.8658 - val_loss: 0.3541 - val_accuracy: 0.8591\n",
      "Epoch 95/100\n",
      "5359/5359 [==============================] - 1s 127us/step - loss: 0.3269 - accuracy: 0.8649 - val_loss: 0.3531 - val_accuracy: 0.8603\n",
      "Epoch 96/100\n",
      "5359/5359 [==============================] - 1s 136us/step - loss: 0.3269 - accuracy: 0.8662 - val_loss: 0.3534 - val_accuracy: 0.8607\n",
      "Epoch 97/100\n",
      "5359/5359 [==============================] - 1s 136us/step - loss: 0.3267 - accuracy: 0.8645 - val_loss: 0.3536 - val_accuracy: 0.8599\n",
      "Epoch 98/100\n",
      "5359/5359 [==============================] - 1s 129us/step - loss: 0.3266 - accuracy: 0.8647 - val_loss: 0.3527 - val_accuracy: 0.8595\n",
      "Epoch 99/100\n",
      "5359/5359 [==============================] - 1s 137us/step - loss: 0.3266 - accuracy: 0.8645 - val_loss: 0.3526 - val_accuracy: 0.8607\n",
      "Epoch 100/100\n",
      "5359/5359 [==============================] - 1s 122us/step - loss: 0.3264 - accuracy: 0.8670 - val_loss: 0.3539 - val_accuracy: 0.8569\n"
     ]
    }
   ],
   "source": [
    "# Fitting the ANN to the Training set\n",
    "model_history=classifier.fit(X_train, y_train,validation_split=0.33, batch_size = 10, nb_epoch = 100)"
   ]
  },
  {
   "cell_type": "code",
   "execution_count": 23,
   "metadata": {},
   "outputs": [
    {
     "ename": "SyntaxError",
     "evalue": "invalid syntax (<ipython-input-23-1733b99efc0c>, line 12)",
     "output_type": "error",
     "traceback": [
      "\u001b[0;36m  File \u001b[0;32m\"<ipython-input-23-1733b99efc0c>\"\u001b[0;36m, line \u001b[0;32m12\u001b[0m\n\u001b[0;31m    plt.show()'''''''\u001b[0m\n\u001b[0m                   ^\u001b[0m\n\u001b[0;31mSyntaxError\u001b[0m\u001b[0;31m:\u001b[0m invalid syntax\n"
     ]
    }
   ],
   "source": [
    "''''''''\n",
    "# list all data in history\n",
    "\n",
    "print(model_history.history.keys())\n",
    "# summarize history for accuracy\n",
    "plt.plot(model_history.history['acc'])\n",
    "plt.plot(model_history.history['val_acc'])\n",
    "plt.title('model accuracy')\n",
    "plt.ylabel('accuracy')\n",
    "plt.xlabel('epoch')\n",
    "plt.legend(['train', 'test'], loc='upper left')\n",
    "plt.show()'''''''"
   ]
  },
  {
   "cell_type": "code",
   "execution_count": 16,
   "metadata": {},
   "outputs": [
    {
     "data": {
      "image/png": "[encoded data removed]",
      "text/plain": [
       "<Figure size 432x288 with 1 Axes>"
      ]
     },
     "metadata": {
      "needs_background": "light"
     },
     "output_type": "display_data"
    }
   ],
   "source": [
    "# summarize history for loss\n",
    "plt.plot(model_history.history['loss'])\n",
    "plt.plot(model_history.history['val_loss'])\n",
    "plt.title('model loss')\n",
    "plt.ylabel('loss')\n",
    "plt.xlabel('epoch')\n",
    "plt.legend(['train', 'test'], loc='upper left')\n",
    "plt.show()"
   ]
  },
  {
   "cell_type": "code",
   "execution_count": 17,
   "metadata": {},
   "outputs": [],
   "source": [
    "# Part 3 - Making the predictions and evaluating the model\n",
    "\n",
    "# Predicting the Test set results\n",
    "y_pred = classifier.predict(X_test)\n",
    "y_pred = (y_pred > 0.5)\n",
    "\n"
   ]
  },
  {
   "cell_type": "code",
   "execution_count": 18,
   "metadata": {},
   "outputs": [
    {
     "data": {
      "text/plain": [
       "array([[1538,   57],\n",
       "       [ 214,  191]])"
      ]
     },
     "execution_count": 18,
     "metadata": {},
     "output_type": "execute_result"
    }
   ],
   "source": [
    "# Making the Confusion Matrix\n",
    "from sklearn.metrics import confusion_matrix\n",
    "cm = confusion_matrix(y_test, y_pred)\n",
    "cm"
   ]
  },
  {
   "cell_type": "code",
   "execution_count": 19,
   "metadata": {},
   "outputs": [
    {
     "data": {
      "text/plain": [
       "0.8645"
      ]
     },
     "execution_count": 19,
     "metadata": {},
     "output_type": "execute_result"
    }
   ],
   "source": [
    "# Calculate the Accuracy\n",
    "from sklearn.metrics import accuracy_score\n",
    "score=accuracy_score(y_pred,y_test)\n",
    "score"
   ]
  },
  {
   "cell_type": "code",
   "execution_count": null,
   "metadata": {},
   "outputs": [],
   "source": []
  }
 ],
 "metadata": {
  "kernelspec": {
   "display_name": "Python 3",
   "language": "python",
   "name": "python3"
  },
  "language_info": {
   "codemirror_mode": {
    "name": "ipython",
    "version": 3
   },
   "file_extension": ".py",
   "mimetype": "text/x-python",
   "name": "python",
   "nbconvert_exporter": "python",
   "pygments_lexer": "ipython3",
   "version": "3.7.6"
  }
 },
 "nbformat": 4,
 "nbformat_minor": 4
}
